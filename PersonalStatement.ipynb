{
 "cells": [
  {
   "cell_type": "markdown",
   "source": [
    "Here is the code for generating 3 advice for a student's essay. You need to implement a class using this code. This class should have the following methods:\n",
    "\n",
    "get_advice(article, program): This method takes an article and a program as input, and returns a list of advice for the student's essay. Each advice should be a dictionary with the following keys: line_num, src_sentence, advice. The value of line_num is the line number of the sentence in the essay. The value of src_sentence is the original sentence from the essay enclosed in quotation marks. The value of advice is the advice for the sentence.\n",
    "\n",
    "_parse_advice(advice): This method takes the langchain output as input, and returns a list of advice."
   ],
   "metadata": {
    "collapsed": false
   },
   "id": "470c8e5149c0cf08"
  },
  {
   "cell_type": "code",
   "execution_count": 9,
   "id": "initial_id",
   "metadata": {
    "collapsed": true,
    "ExecuteTime": {
     "end_time": "2023-09-06T14:27:39.412538Z",
     "start_time": "2023-09-06T14:27:15.150573Z"
    }
   },
   "outputs": [
    {
     "name": "stdout",
     "output_type": "stream",
     "text": [
      "1|\"I have long sought an opportunity to demonstrate the breadth of my engineering knowledge and experience.\"|\"This sentence could be improved by providing specific examples of how you have demonstrated your engineering knowledge and experience. Instead of telling, show the reader through concrete examples.\"||3|\"My approach is characterized by unconventionality, colloquial language, and unorthodox methods that challenge conventional wisdom.\"|\"This sentence could be more effective if you provide examples of your unconventional approach and how it has benefited you or others in your work. Also, be cautious with the use of 'colloquial language' as it may not be appropriate in all professional settings.\"||7|\"An avid learner, I’ve embraced new technologies, methodologies, and tools with zeal – even when they often present daunting obstacles.\"|\"This sentence could be improved by providing specific examples of the new technologies, methodologies, and tools you have embraced. Also, explain how overcoming these 'daunting obstacles' has helped you grow as an engineer.\"\n"
     ]
    }
   ],
   "source": [
    "from dotenv import load_dotenv, find_dotenv\n",
    "from langchain.chat_models import ChatOpenAI\n",
    "from langchain.prompts import PromptTemplate\n",
    "from langchain.output_parsers import CommaSeparatedListOutputParser\n",
    "import pandas as pd\n",
    "from langchain.chains import LLMChain\n",
    "from tqdm import tqdm\n",
    "from langchain.embeddings import OpenAIEmbeddings\n",
    "\n",
    "load_dotenv(find_dotenv())\n",
    "llm = ChatOpenAI(\n",
    "    temperature=0,\n",
    "    model=\"gpt-4-0613\",\n",
    "    verbose=True,\n",
    ")\n",
    "prompt = PromptTemplate.from_template(\"\"\"\n",
    "### Your role\n",
    "You are an admission officer from Harvard University. You are reading an application essay from a student who is applying for the {program} program. The student is writing about their background and why they want to study at Harvard. Please write a response to the student to tell how to improve the essay.\n",
    "\n",
    "### Requirement of your response\n",
    "Your response should be written in a formal and professional tone. You should write 3 points to tell the student how to improve the essay. Each point should start with the line number of the sentence inn the essay, then the original sentence from the essay enclosed in quotation marks, and finally your advice. Separate each points with ||\n",
    "\n",
    "### Example of your response\n",
    "1|\"I am an experienced and passionate public health advocate who has been driven to pursue a graduate degree in the field for several years.\"|\"You should remove this sentence because it is too long and wordy. You should write a shorter sentence to express the same idea.\"||4|\"Dedicated to promoting health justice, equity, and well-being on both local and global levels, I’ve collaborated with multiple non-profit organizations over the years.\"|\"You should include more details about the non-profit organizations you have collaborated with. You should also include more details about the health justice, equity, and well-being you have promoted.\"||10|\"Studying at Harvard would provide me with the tools needed to drive impactful progress while developing my skills as a leader in public health.\"|\"You should focus more on the specific tools you want to learn from Harvard. You should also focus more on the specific skills you want to develop from Harvard.\"\n",
    "\n",
    "### The student's essay\n",
    "{article}\n",
    "\n",
    "### Your response\n",
    "\"\"\")\n",
    "prompt.format_prompt(article=\"article\", program=\"program\")\n",
    "article = \"\"\"\n",
    "I have long sought an opportunity to demonstrate the breadth of my engineering knowledge and experience. As a self-taught engineer, I have developed strong technical skills in electrical design and software development. It gave me a distinctive viewpoint on both the academic and professional spheres of engineering. My approach is characterized by unconventionality, colloquial language, and unorthodox methods that challenge conventional wisdom.\n",
    "\n",
    "I am motivated by a sincere passion for creativity and problem-solving and an unyielding curiosity regarding the boundaries of science and technology. Throughout my career, I have sought out opportunities to hone my aptitudes by engaging with advanced concepts and tackling difficult challenges. An avid learner, I’ve embraced new technologies, methodologies, and tools with zeal – even when they often present daunting obstacles. By way of such tenacity, I’ve been able to develop complex applications across numerous platforms while refraining from algorithmic fallacies.\n",
    "\n",
    "A graduate degree would be invaluable in allowing me to further pursue these ambitions. Specifically, being part of the Harvard Graduate School community would allow me to collaborate with industry experts and peers. These people share my dedication and eagerness for growth. Additionally, the vast resources available within the university could facilitate unprecedented levels of exploration into research topics of personal interest. Finally, attendance at Harvard would be advantageous in helping me expand upon my foundational knowledge of electrical engineering. It would ultimately enable me to contribute more substantially to the field.\n",
    "\n",
    "For all these reasons, I am confident that enrollment in the Harvard Graduate School would offer me a great platform. It would let me realize my goals and help propel me toward future success.\n",
    "\"\"\"\n",
    "\n",
    "program = \"Master of Engineering in Computer Science\"\n",
    "chain = LLMChain(llm=llm, prompt=prompt)\n",
    "result = chain.run(article=article, program=program)\n",
    "print(result)"
   ]
  },
  {
   "cell_type": "code",
   "execution_count": 12,
   "outputs": [
    {
     "data": {
      "text/plain": "[{'line_num': '1',\n  'src_sentence': '\"I have long sought an opportunity to demonstrate the breadth of my engineering knowledge and experience.\"',\n  'advice': '\"This sentence could be improved by providing specific examples of how you have demonstrated your engineering knowledge and experience. Instead of telling, show the reader through concrete examples.\"'},\n {'line_num': '3',\n  'src_sentence': '\"My approach is characterized by unconventionality, colloquial language, and unorthodox methods that challenge conventional wisdom.\"',\n  'advice': '\"This sentence could be more effective if you provide examples of your unconventional approach and how it has benefited you or others in your work. Also, be cautious with the use of \\'colloquial language\\' as it may not be appropriate in all professional settings.\"'},\n {'line_num': '7',\n  'src_sentence': '\"An avid learner, I’ve embraced new technologies, methodologies, and tools with zeal – even when they often present daunting obstacles.\"',\n  'advice': '\"This sentence could be improved by providing specific examples of the new technologies, methodologies, and tools you have embraced. Also, explain how overcoming these \\'daunting obstacles\\' has helped you grow as an engineer.\"'}]"
     },
     "execution_count": 12,
     "metadata": {},
     "output_type": "execute_result"
    }
   ],
   "source": [
    "def parse_advice(advice):\n",
    "    return {\n",
    "        \"line_num\": advice[0],\n",
    "        \"src_sentence\": advice[1],\n",
    "        \"advice\": advice[2],\n",
    "    }\n",
    "list(map(lambda r: parse_advice(r.split('|')), result.split(\"||\")))"
   ],
   "metadata": {
    "collapsed": false
   },
   "id": "34c958b3e6482a8e"
  }
 ],
 "metadata": {
  "kernelspec": {
   "display_name": "Python 3",
   "language": "python",
   "name": "python3"
  },
  "language_info": {
   "codemirror_mode": {
    "name": "ipython",
    "version": 2
   },
   "file_extension": ".py",
   "mimetype": "text/x-python",
   "name": "python",
   "nbconvert_exporter": "python",
   "pygments_lexer": "ipython2",
   "version": "2.7.6"
  }
 },
 "nbformat": 4,
 "nbformat_minor": 5
}
