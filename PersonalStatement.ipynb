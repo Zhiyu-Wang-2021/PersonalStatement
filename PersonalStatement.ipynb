{
 "cells": [
  {
   "cell_type": "markdown",
   "source": [
    "Here is the code for generating 3 advice for a student's essay. You need to implement a class using this code. This class should have the following methods:\n",
    "\n",
    "get_advice(article, program): This method takes an article and a program as input, and returns a list of advice for the student's essay. Each advice should be a dictionary with the following keys: line_num, src_sentence, advice. The value of line_num is the line number of the sentence in the essay. The value of src_sentence is the original sentence from the essay enclosed in quotation marks. The value of advice is the advice for the sentence.\n",
    "\n",
    "_parse_advice(advice): This method takes the langchain output as input, and returns a list of advice."
   ],
   "metadata": {
    "collapsed": false
   },
   "id": "470c8e5149c0cf08"
  },
  {
   "cell_type": "code",
   "execution_count": 2,
   "id": "initial_id",
   "metadata": {
    "collapsed": true,
    "ExecuteTime": {
     "end_time": "2023-09-16T14:05:13.714796Z",
     "start_time": "2023-09-16T14:04:55.113885Z"
    }
   },
   "outputs": [
    {
     "name": "stdout",
     "output_type": "stream",
     "text": [
      "1|6|\"In Danzhai, an impoverished village barricaded by layers of mountains and isolated from development, I saw left-behind children’s eyes dimmed with helplessness and insecurity, the elderly subdued to poverty, and the magnificent traditional Batik Art losing its glamor.\"|Your opening sentence is quite descriptive and sets the scene well, but it could be more engaging. Consider starting with a thought-provoking question or a bold statement to immediately grab the reader's attention.||5|7|\"Thus, I started Batik Legend Charity Club, establishing the slogan “Commerce, Connection, Compassion” to organize charity speeches and sales on Danzhai’s traditional artwork.\"|While you've mentioned the establishment of the Batik Legend Charity Club, you could delve deeper into your personal experiences and learnings from this. Instead of just stating what you did, show the reader how this experience shaped you and what you learned from it.||12|8|\"To connect with compassion, bring hope with effort, invigorate communities with commerce, and preserve culture with development, that’s meaningful to me.\"|Your conclusion is strong and memorable, but it could be more impactful. Consider ending your essay with a \"kicker\" - a strong, memorable point that wraps up your essay effectively. You could reflect on how your experiences in Danzhai have shaped your perspective on what is meaningful, and how this will influence your future studies and career in computer science.\n"
     ]
    }
   ],
   "source": [
    "from dotenv import load_dotenv, find_dotenv\n",
    "from langchain.chat_models import ChatOpenAI\n",
    "from langchain.prompts import PromptTemplate\n",
    "from langchain.output_parsers import CommaSeparatedListOutputParser\n",
    "import pandas as pd\n",
    "from langchain.chains import LLMChain\n",
    "from tqdm import tqdm\n",
    "from langchain.embeddings import OpenAIEmbeddings\n",
    "\n",
    "load_dotenv(find_dotenv())\n",
    "llm = ChatOpenAI(\n",
    "    temperature=0,\n",
    "    model=\"gpt-4-0613\",\n",
    "    verbose=True,\n",
    ")\n",
    "prompt = PromptTemplate.from_template(\"\"\"\n",
    "### Your role\n",
    "You are an admission officer from a top university. You are reading an application essay from a student who is applying for the {program} program. The student is writing about their background and why they want to study at your university. Please write a response to the student to tell how to improve the essay.\n",
    "\n",
    "### Your perspective\n",
    "{perspective}\n",
    "\n",
    "### Requirement of your response\n",
    "Your response should be written in a formal and professional tone. You should write 3 points to tell the student how to improve the essay. Each point should start with the line number of the sentence in the essay, then a score (0-10) considering feedback, then the original sentence from the essay enclosed in quotation marks, and finally your advice. Separate each advice with ||, and separate each part of your advice by |\n",
    "\n",
    "### Example of your response\n",
    "1|7|\"I am an experienced and passionate public health advocate who has been driven to pursue a graduate degree in the field for several years.\"|\"You should remove this sentence because it is too long and wordy. You should write a shorter sentence to express the same idea.\"||4|4|\"Dedicated to promoting health justice, equity, and well-being on both local and global levels, I’ve collaborated with multiple non-profit organizations over the years.\"|\"You should include more details about the non-profit organizations you have collaborated with. You should also include more details about the health justice, equity, and well-being you have promoted.\"||10|2|\"Studying at Harvard would provide me with the tools needed to drive impactful progress while developing my skills as a leader in public health.\"|\"You should focus more on the specific tools you want to learn from Harvard. You should also focus more on the specific skills you want to develop from Harvard.\"\n",
    "\n",
    "### Essay Question\n",
    "{essay_question}\n",
    "\n",
    "### The student's essay\n",
    "{essay}\n",
    "\n",
    "### Your response\n",
    "\"\"\")\n",
    "essay = \"\"\"\n",
    "In Danzhai, an impoverished village barricaded by layers of mountains and isolated from development, I saw left-behind children’s eyes dimmed with helplessness and insecurity, the elderly subdued to poverty, and the magnificent traditional Batik Art losing its glamor.  \n",
    "Thus, I started Batik Legend Charity Club, establishing the slogan “Commerce, Connection, Compassion” to organize charity speeches and sales on Danzhai’s traditional artwork. Two workshops were established in Danzhai, attracting eight adults back to the village for work and bringing their children parental company. I saw children’s eyes lighted by excitement. \n",
    "In the next year, I collaborated with other charity organizations for the Batik art sale and established a book corner in Danzhai. I saw children’s eyes brightened by curiosity. In year three, I established branches in Qingdao and Chengdu, bringing more people to join the cause and raising $5000. I saw the Batik art shining on the display. This year, four more village workshops were built, and we now have forty young people returning to the village working on Batik art. Each time I visited the village, I saw new eyes, glowing with passion, vitality, and gratefulness. \n",
    "This summer I visited the county again. Seeing a disabled 78-year-old woman working carefully at her table, drawing beautiful pictures, I knew that the community has been rebuilt, and that compassion has been connected through commerce.\n",
    "To connect with compassion, bring hope with effort, invigorate communities with commerce, and preserve culture with development, that’s meaningful to me.\n",
    "\"\"\"\n",
    "\n",
    "program = \"Master of Engineering in Computer Science\"\n",
    "essay_question = \"What do you think is meaningful?\"\n",
    "harvard_perspective = \"\"\"You evaluation the essay using by considering below requirement.\n",
    "1. Be Authentic: Write on a topic that truly reflects who you are. Authenticity and honesty are appreciated more than superficial subjects or overly complex language.\n",
    "2. Grab the Reader from the Start: Use a compelling opening to engage the reader's interest immediately. This can be a bold statement, thought-provoking question, or vivid description.\n",
    "3. Focus on Deeper Themes: Instead of only presenting facts, figures, or activity descriptions, delve into your personal experiences, learnings, and realizations.\n",
    "4. Show Don’t Tell: Use descriptive storytelling instead of merely listing achievements.\n",
    "5. Try Doing Something Different: Approach your topic from a unique angle, even if it's a common theme.\n",
    "6. Write With the Reader in Mind: Make your writing logical and clear, ensuring that each thought flows naturally into the next.\n",
    "7. Write Several Drafts: Allocate enough time to write multiple drafts of your essay.\n",
    "8. Read It Aloud: Reading your essay aloud can help identify any clumsy or awkward sentences.\n",
    "9. Don’t Repeat: Avoid repeating the same points or stories already mentioned in other parts of your application.\n",
    "10. Ask Others to Read Your Essay: Seek feedback from a diverse group of people to get different perspectives.\n",
    "11. Pay Attention to Form: Follow any provided guidelines for word limit and formatting to ensure readability.\n",
    "12. End Your Essay with a \"Kicker\": Conclude your essay with a strong, memorable point that wraps up your essay effectively.\"\"\"\n",
    "\n",
    "chain = LLMChain(llm=llm, prompt=prompt)\n",
    "result = chain.run(essay=essay,\n",
    "                   program=program,\n",
    "                   essay_question=essay_question,\n",
    "                   perspective=harvard_perspective)\n",
    "print(result)"
   ]
  },
  {
   "cell_type": "code",
   "execution_count": 3,
   "outputs": [
    {
     "data": {
      "text/plain": "[{'line_num': '1',\n  'score': '6',\n  'src_sentence': '\"In Danzhai, an impoverished village barricaded by layers of mountains and isolated from development, I saw left-behind children’s eyes dimmed with helplessness and insecurity, the elderly subdued to poverty, and the magnificent traditional Batik Art losing its glamor.\"',\n  'advice': \"Your opening sentence is quite descriptive and sets the scene well, but it could be more engaging. Consider starting with a thought-provoking question or a bold statement to immediately grab the reader's attention.\"},\n {'line_num': '5',\n  'score': '7',\n  'src_sentence': '\"Thus, I started Batik Legend Charity Club, establishing the slogan “Commerce, Connection, Compassion” to organize charity speeches and sales on Danzhai’s traditional artwork.\"',\n  'advice': \"While you've mentioned the establishment of the Batik Legend Charity Club, you could delve deeper into your personal experiences and learnings from this. Instead of just stating what you did, show the reader how this experience shaped you and what you learned from it.\"},\n {'line_num': '12',\n  'score': '8',\n  'src_sentence': '\"To connect with compassion, bring hope with effort, invigorate communities with commerce, and preserve culture with development, that’s meaningful to me.\"',\n  'advice': 'Your conclusion is strong and memorable, but it could be more impactful. Consider ending your essay with a \"kicker\" - a strong, memorable point that wraps up your essay effectively. You could reflect on how your experiences in Danzhai have shaped your perspective on what is meaningful, and how this will influence your future studies and career in computer science.'}]"
     },
     "execution_count": 3,
     "metadata": {},
     "output_type": "execute_result"
    }
   ],
   "source": [
    "def parse_advice(advice):\n",
    "    return {\n",
    "        \"line_num\": advice[0],\n",
    "        \"score\": advice[1],\n",
    "        \"src_sentence\": advice[2],\n",
    "        \"advice\": advice[3],\n",
    "    }\n",
    "list(map(lambda r: parse_advice(r.split('|')), result.split(\"||\")))"
   ],
   "metadata": {
    "collapsed": false,
    "ExecuteTime": {
     "end_time": "2023-09-16T14:05:41.764477Z",
     "start_time": "2023-09-16T14:05:41.696739Z"
    }
   },
   "id": "34c958b3e6482a8e"
  },
  {
   "cell_type": "code",
   "execution_count": null,
   "outputs": [],
   "source": [],
   "metadata": {
    "collapsed": false
   },
   "id": "bc05f7525b91fe2"
  }
 ],
 "metadata": {
  "kernelspec": {
   "display_name": "Python 3",
   "language": "python",
   "name": "python3"
  },
  "language_info": {
   "codemirror_mode": {
    "name": "ipython",
    "version": 2
   },
   "file_extension": ".py",
   "mimetype": "text/x-python",
   "name": "python",
   "nbconvert_exporter": "python",
   "pygments_lexer": "ipython2",
   "version": "2.7.6"
  }
 },
 "nbformat": 4,
 "nbformat_minor": 5
}
