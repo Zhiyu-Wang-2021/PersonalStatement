{
 "cells": [
  {
   "cell_type": "code",
   "execution_count": null,
   "id": "initial_id",
   "metadata": {
    "collapsed": true
   },
   "outputs": [],
   "source": [
    "from dotenv import load_dotenv, find_dotenv\n",
    "from langchain.chat_models import ChatOpenAI\n",
    "from langchain.prompts import PromptTemplate\n",
    "from langchain.output_parsers import CommaSeparatedListOutputParser\n",
    "import pandas as pd\n",
    "from langchain.chains import LLMChain\n",
    "from tqdm import tqdm\n",
    "from langchain.embeddings import OpenAIEmbeddings\n",
    "\n",
    "load_dotenv(find_dotenv())\n",
    "llm = ChatOpenAI(\n",
    "    temperature=0,\n",
    "    model=\"gpt-4-0613\",\n",
    "    verbose=True,\n",
    ")\n",
    "output_parser = CommaSeparatedListOutputParser()\n",
    "format_instructions = output_parser.get_format_instructions()\n",
    "prompt = PromptTemplate.from_template(\"\"\"\n",
    "\"\"\", partial_variables={\"format_instructions\": format_instructions})\n",
    "prompt.format_prompt(article=\"article\")\n",
    "articles = []\n",
    "results = []\n",
    "chain = LLMChain(llm=llm, prompt=prompt)\n",
    "for article in tqdm(articles):\n",
    "    results.append(chain.run(article=article))\n",
    "print(results)"
   ]
  }
 ],
 "metadata": {
  "kernelspec": {
   "display_name": "Python 3",
   "language": "python",
   "name": "python3"
  },
  "language_info": {
   "codemirror_mode": {
    "name": "ipython",
    "version": 2
   },
   "file_extension": ".py",
   "mimetype": "text/x-python",
   "name": "python",
   "nbconvert_exporter": "python",
   "pygments_lexer": "ipython2",
   "version": "2.7.6"
  }
 },
 "nbformat": 4,
 "nbformat_minor": 5
}
